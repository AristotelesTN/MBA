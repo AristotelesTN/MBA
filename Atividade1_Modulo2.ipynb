{
 "cells": [
  {
   "cell_type": "code",
   "execution_count": 73,
   "metadata": {},
   "outputs": [],
   "source": [
    "import matplotlib.pyplot as plt\n",
    "import seaborn \n",
    "from sklearn.linear_model import LinearRegression\n",
    "from sklearn.model_selection import train_test_split\n",
    "import pandas as pd\n",
    "import numpy as np\n",
    "%matplotlib inline"
   ]
  },
  {
   "cell_type": "code",
   "execution_count": 21,
   "metadata": {},
   "outputs": [],
   "source": [
    "# Preparando os Dados\n",
    "\n",
    "Idade = [20, 35, 43, 71, 18, 25]\n",
    "Altura = [1.70, 1.85, 1.79, 1.60, 1.81, 1.69]\n",
    "Peso = [58, 78, 100, 50, 70, 67]"
   ]
  },
  {
   "cell_type": "code",
   "execution_count": 22,
   "metadata": {},
   "outputs": [],
   "source": [
    "serIdade = pd.Series (Idade)\n",
    "serAltura = pd.Series (Altura)\n",
    "serPeso = pd.Series (Peso)"
   ]
  },
  {
   "cell_type": "code",
   "execution_count": 23,
   "metadata": {},
   "outputs": [],
   "source": [
    "df = pd.concat([serIdade, serAltura, serPeso], axis=1)"
   ]
  },
  {
   "cell_type": "code",
   "execution_count": 24,
   "metadata": {},
   "outputs": [],
   "source": [
    "df = pd.DataFrame({'Idade': serIdade, 'Altura': serAltura, 'Peso': serPeso })"
   ]
  },
  {
   "cell_type": "code",
   "execution_count": 25,
   "metadata": {},
   "outputs": [
    {
     "data": {
      "text/html": [
       "<div>\n",
       "<style scoped>\n",
       "    .dataframe tbody tr th:only-of-type {\n",
       "        vertical-align: middle;\n",
       "    }\n",
       "\n",
       "    .dataframe tbody tr th {\n",
       "        vertical-align: top;\n",
       "    }\n",
       "\n",
       "    .dataframe thead th {\n",
       "        text-align: right;\n",
       "    }\n",
       "</style>\n",
       "<table border=\"1\" class=\"dataframe\">\n",
       "  <thead>\n",
       "    <tr style=\"text-align: right;\">\n",
       "      <th></th>\n",
       "      <th>Idade</th>\n",
       "      <th>Altura</th>\n",
       "      <th>Peso</th>\n",
       "    </tr>\n",
       "  </thead>\n",
       "  <tbody>\n",
       "    <tr>\n",
       "      <th>0</th>\n",
       "      <td>20</td>\n",
       "      <td>1.70</td>\n",
       "      <td>58</td>\n",
       "    </tr>\n",
       "    <tr>\n",
       "      <th>1</th>\n",
       "      <td>35</td>\n",
       "      <td>1.85</td>\n",
       "      <td>78</td>\n",
       "    </tr>\n",
       "    <tr>\n",
       "      <th>2</th>\n",
       "      <td>43</td>\n",
       "      <td>1.79</td>\n",
       "      <td>100</td>\n",
       "    </tr>\n",
       "    <tr>\n",
       "      <th>3</th>\n",
       "      <td>71</td>\n",
       "      <td>1.60</td>\n",
       "      <td>50</td>\n",
       "    </tr>\n",
       "    <tr>\n",
       "      <th>4</th>\n",
       "      <td>18</td>\n",
       "      <td>1.81</td>\n",
       "      <td>70</td>\n",
       "    </tr>\n",
       "  </tbody>\n",
       "</table>\n",
       "</div>"
      ],
      "text/plain": [
       "   Idade  Altura  Peso\n",
       "0     20    1.70    58\n",
       "1     35    1.85    78\n",
       "2     43    1.79   100\n",
       "3     71    1.60    50\n",
       "4     18    1.81    70"
      ]
     },
     "execution_count": 25,
     "metadata": {},
     "output_type": "execute_result"
    }
   ],
   "source": [
    "df.head()"
   ]
  },
  {
   "cell_type": "code",
   "execution_count": 72,
   "metadata": {},
   "outputs": [
    {
     "name": "stdout",
     "output_type": "stream",
     "text": [
      "Coef: -0.0024\n",
      "MSE: 0.0053\n",
      "Score: 0.26\n"
     ]
    }
   ],
   "source": [
    "modelo = LinearRegression()\n",
    "modelo.fit(df[['Idade']], df[['Altura']])\n",
    "# Coeficientes\n",
    "print('Coef: %.4f' % modelo.coef_)\n",
    "# MSE (mean square error)\n",
    "print('MSE: %.4f' % np.mean((modelo.predict(df[['Idade']]) - df[['Altura']]) ** 2))\n",
    "# Score de variação: 1 representa predição perfeita\n",
    "print('Score: %.2f' % modelo.score(df[['Idade']], df[['Altura']]))"
   ]
  },
  {
   "cell_type": "code",
   "execution_count": 50,
   "metadata": {},
   "outputs": [
    {
     "data": {
      "image/png": "[encoded data removed]",
      "text/plain": [
       "<Figure size 432x288 with 1 Axes>"
      ]
     },
     "metadata": {},
     "output_type": "display_data"
    }
   ],
   "source": [
    "# Scatter Plot representando a regressão linear\n",
    "plt.scatter(df[['Idade']], df[['Altura']],  color = 'black')\n",
    "plt.plot(df[['Idade']], modelo.predict(df[['Idade']]), color = 'blue', linewidth = 3)\n",
    "plt.xlabel('Idade')\n",
    "plt.ylabel('Altura')\n",
    "plt.xticks(())\n",
    "plt.yticks(())\n",
    "\n",
    "plt.show()"
   ]
  },
  {
   "cell_type": "code",
   "execution_count": 61,
   "metadata": {},
   "outputs": [
    {
     "name": "stdout",
     "output_type": "stream",
     "text": [
      "Coef: -0\n",
      "MSE: 246.38\n",
      "Score: 0.02\n"
     ]
    }
   ],
   "source": [
    "modelo2 = LinearRegression()\n",
    "modelo2.fit(df[['Idade']], df[['Peso']])\n",
    "# Coeficientes\n",
    "print('Coef: %2.f' % modelo2.coef_)\n",
    "# MSE (mean square error)\n",
    "print('MSE: %.2f' % np.mean((modelo2.predict(df[['Idade']]) - df[['Peso']]) ** 2))\n",
    "# Score de variação: 1 representa predição perfeita\n",
    "print('Score: %.2f' % modelo2.score(df[['Idade']], df[['Peso']]))"
   ]
  },
  {
   "cell_type": "code",
   "execution_count": 52,
   "metadata": {},
   "outputs": [
    {
     "data": {
      "image/png": "[encoded data removed]",
      "text/plain": [
       "<Figure size 432x288 with 1 Axes>"
      ]
     },
     "metadata": {},
     "output_type": "display_data"
    }
   ],
   "source": [
    "# Scatter Plot representando a regressão linear\n",
    "plt.scatter(df[['Idade']], df[['Peso']],  color = 'black')\n",
    "plt.plot(df[['Idade']], modelo2.predict(df[['Idade']]), color = 'blue', linewidth = 3)\n",
    "plt.xlabel('Idade')\n",
    "plt.ylabel('Peso')\n",
    "plt.xticks(())\n",
    "plt.yticks(())\n",
    "\n",
    "plt.show()"
   ]
  },
  {
   "cell_type": "code",
   "execution_count": 66,
   "metadata": {},
   "outputs": [
    {
     "name": "stdout",
     "output_type": "stream",
     "text": [
      "Coef: 134.49\n",
      "MSE: 122.35\n",
      "Score: 0.52\n"
     ]
    }
   ],
   "source": [
    "modelo3 = LinearRegression()\n",
    "modelo3.fit(df[['Altura']], df[['Peso']])\n",
    "# Coeficientes\n",
    "print('Coef: %.2f' % modelo3.coef_)\n",
    "# MSE (mean square error)\n",
    "print('MSE: %.2f' % np.mean((modelo3.predict(df[['Altura']]) - df[['Peso']]) ** 2))\n",
    "# Score de variação: 1 representa predição perfeita\n",
    "print('Score: %.2f' % modelo3.score(df[['Altura']], df[['Peso']]))"
   ]
  },
  {
   "cell_type": "code",
   "execution_count": 55,
   "metadata": {},
   "outputs": [
    {
     "data": {
      "image/png": "[encoded data removed]",
      "text/plain": [
       "<Figure size 432x288 with 1 Axes>"
      ]
     },
     "metadata": {},
     "output_type": "display_data"
    }
   ],
   "source": [
    "# Scatter Plot representando a regressão linear\n",
    "plt.scatter(df[['Altura']], df[['Peso']],  color = 'black')\n",
    "plt.plot(df[['Altura']], modelo3.predict(df[['Altura']]), color = 'blue', linewidth = 3)\n",
    "plt.xlabel('Altura')\n",
    "plt.ylabel('Peso')\n",
    "plt.xticks(())\n",
    "plt.yticks(())\n",
    "\n",
    "plt.show()"
   ]
  },
  {
   "cell_type": "code",
   "execution_count": null,
   "metadata": {},
   "outputs": [],
   "source": []
  }
 ],
 "metadata": {
  "kernelspec": {
   "display_name": "Python 3",
   "language": "python",
   "name": "python3"
  },
  "language_info": {
   "codemirror_mode": {
    "name": "ipython",
    "version": 3
   },
   "file_extension": ".py",
   "mimetype": "text/x-python",
   "name": "python",
   "nbconvert_exporter": "python",
   "pygments_lexer": "ipython3",
   "version": "3.7.0"
  }
 },
 "nbformat": 4,
 "nbformat_minor": 2
}
