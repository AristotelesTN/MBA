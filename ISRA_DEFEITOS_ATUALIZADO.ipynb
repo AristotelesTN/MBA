{
  "nbformat": 4,
  "nbformat_minor": 0,
  "metadata": {
    "colab": {
      "name": "Untitled1.ipynb",
      "version": "0.3.2",
      "provenance": [],
      "collapsed_sections": [],
      "include_colab_link": true
    },
    "kernelspec": {
      "name": "python3",
      "display_name": "Python 3"
    }
  },
  "cells": [
    {
      "cell_type": "markdown",
      "metadata": {
        "id": "view-in-github",
        "colab_type": "text"
      },
      "source": [
        "<a href=\"https://colab.research.google.com/github/AristotelesTN/MBA/blob/master/ISRA_DEFEITOS_ATUALIZADO.ipynb\" target=\"_parent\"><img src=\"https://colab.research.google.com/assets/colab-badge.svg\" alt=\"Open In Colab\"/></a>"
      ]
    },
    {
      "cell_type": "code",
      "metadata": {
        "id": "I2cueUTLRj9z",
        "colab_type": "code",
        "colab": {}
      },
      "source": [
        "import pandas as pd\n",
        "import io\n",
        "import numpy as np\n",
        "import matplotlib.pyplot as plt\n",
        "from collections import Counter\n",
        "\n",
        "%matplotlib inline"
      ],
      "execution_count": 0,
      "outputs": []
    },
    {
      "cell_type": "code",
      "metadata": {
        "id": "c-NgpKAeSnEx",
        "colab_type": "code",
        "colab": {}
      },
      "source": [
        "df = pd.ExcelFile('/Scanner x Operador ISRA 2019_Edson.xlsx')"
      ],
      "execution_count": 0,
      "outputs": []
    },
    {
      "cell_type": "code",
      "metadata": {
        "id": "VdpexEKmSnG4",
        "colab_type": "code",
        "colab": {
          "base_uri": "https://localhost:8080/",
          "height": 51
        },
        "outputId": "d0938d4e-57ab-437f-bcd7-6597275ab0b1"
      },
      "source": [
        "df1 = pd.read_excel('/Scanner x Operador ISRA 2019_Edson.xlsx', sheetname='Scanner vs Operador')"
      ],
      "execution_count": 57,
      "outputs": [
        {
          "output_type": "stream",
          "text": [
            "/usr/local/lib/python3.6/dist-packages/pandas/util/_decorators.py:188: FutureWarning: The `sheetname` keyword is deprecated, use `sheet_name` instead\n",
            "  return func(*args, **kwargs)\n"
          ],
          "name": "stderr"
        }
      ]
    },
    {
      "cell_type": "code",
      "metadata": {
        "id": "alNnck1dTBay",
        "colab_type": "code",
        "colab": {
          "base_uri": "https://localhost:8080/",
          "height": 68
        },
        "outputId": "f0713e37-f2b2-48ed-9175-9fe76bc0934a"
      },
      "source": [
        "df1 = df1.replace({'Tipo Defeito (Scanner)' : {'Tin Stain': 'Tin stain'}})\n",
        "df1 = df1.replace({'Tipo Defeito (Scanner)' : {'tin stain': 'Tin stain'}})\n",
        "df1 = df1.replace({'Tipo Defeito (Scanner)' : {'tin top ': 'Tin top'}})\n",
        "df1 = df1.replace({'Tipo Defeito (Scanner)' : {'tin top': 'Tin top'}})\n",
        "df1 = df1.replace({'Tipo Defeito (Scanner)' : {'Top tin': 'Tin top'}})\n",
        "df1 = df1.replace({'Tipo Defeito (Scanner)': {'Bolha ': 'Bolha'}})\n",
        "df1 = df1.replace({'Tipo Defeito (Scanner)': {'bolha ': 'Bolha'}})\n",
        "df1 = df1.replace({'Tipo Defeito (Scanner)': {'bolha' : 'Bolha'}})\n",
        "df1 = df1.replace({'Tipo Defeito (Scanner)': {'Inclusao' : 'Inclusão'}})\n",
        "\n",
        "print(df1['Tipo Defeito (Scanner)'].unique())"
      ],
      "execution_count": 164,
      "outputs": [
        {
          "output_type": "stream",
          "text": [
            "['Inclusão' 'Tin stain' 'Linha de Nodulo' 'Bolha' 'Tin Bottom'\n",
            " 'Tin bottom' 'Default' 'Tin top' 'Dirt' 'Roller Mark' 'Nodulo'\n",
            " 'Bubble not dist' 'Tin Oxide' 'Lagrima' nan]\n"
          ],
          "name": "stdout"
        }
      ]
    },
    {
      "cell_type": "code",
      "metadata": {
        "id": "02i2QvMAtCDw",
        "colab_type": "code",
        "colab": {
          "base_uri": "https://localhost:8080/",
          "height": 119
        },
        "outputId": "627269d7-c420-45f0-ab54-344ff11b0f91"
      },
      "source": [
        "#BOLHA - SEMANA 33\n",
        "AcertosB = df1[(df1['Tipo Defeito (Scanner)'] == 'Bolha') & (df1['Tipo Defeito (Scanner)'] == df1['Tipologia']) & (df1['Semana'] == 33) & (df1['Cor'] == 'INC')]\n",
        "TotalB = df1[(df1['Tipo Defeito (Scanner)'] == 'Bolha') & (df1['Semana'] == 33) & (df1['Cor'] == 'INC')]\n",
        "\n",
        "print(AcertosB['Tipo Defeito (Scanner)'].value_counts())\n",
        "print(TotalB['Tipo Defeito (Scanner)'].value_counts())\n",
        "\n",
        "print ( (AcertosB['Tipo Defeito (Scanner)'].value_counts() / TotalB['Tipo Defeito (Scanner)'].value_counts()) * 100 )"
      ],
      "execution_count": 167,
      "outputs": [
        {
          "output_type": "stream",
          "text": [
            "Bolha    25\n",
            "Name: Tipo Defeito (Scanner), dtype: int64\n",
            "Bolha    35\n",
            "Name: Tipo Defeito (Scanner), dtype: int64\n",
            "Bolha    71.428571\n",
            "Name: Tipo Defeito (Scanner), dtype: float64\n"
          ],
          "name": "stdout"
        }
      ]
    },
    {
      "cell_type": "code",
      "metadata": {
        "id": "XTwBjb53vmzU",
        "colab_type": "code",
        "colab": {}
      },
      "source": [
        ""
      ],
      "execution_count": 0,
      "outputs": []
    },
    {
      "cell_type": "code",
      "metadata": {
        "id": "X9YdN5-atGJY",
        "colab_type": "code",
        "colab": {
          "base_uri": "https://localhost:8080/",
          "height": 68
        },
        "outputId": "89ab2cc2-017d-4b06-f87c-3bf70479ebd4"
      },
      "source": [
        "#Inclusão - SEMANA 33\n",
        "AcertosB = df1[(df1['Tipo Defeito (Scanner)'] == 'Tin Bottom') & (df1['Tipo Defeito (Scanner)'] == df1['Tipologia']) & (df1['Semana'] == 33) & (df1['Cor'] == 'INC')]\n",
        "TotalB = df1[(df1['Tipo Defeito (Scanner)'] == 'Tin Bottom') & (df1['Semana'] == 33) & (df1['Cor'] == 'INC')]\n",
        "\n",
        "print(AcertosB['Tipo Defeito (Scanner)'].value_counts())\n",
        "print(TotalB['Tipo Defeito (Scanner)'].value_counts())\n",
        "\n",
        "print ( (AcertosB['Tipo Defeito (Scanner)'].value_counts() / TotalB['Tipo Defeito (Scanner)'].value_counts()) * 100 )"
      ],
      "execution_count": 166,
      "outputs": [
        {
          "output_type": "stream",
          "text": [
            "Series([], Name: Tipo Defeito (Scanner), dtype: int64)\n",
            "Series([], Name: Tipo Defeito (Scanner), dtype: int64)\n",
            "Series([], Name: Tipo Defeito (Scanner), dtype: float64)\n"
          ],
          "name": "stdout"
        }
      ]
    },
    {
      "cell_type": "code",
      "metadata": {
        "id": "xNUmzmv6gqR-",
        "colab_type": "code",
        "colab": {
          "base_uri": "https://localhost:8080/",
          "height": 34
        },
        "outputId": "c7c4876d-dcdf-485e-cde3-03cb4b8872d1"
      },
      "source": [
        "dataBolha[dataBolha['Tipologia'] != 'Bolha'].shape"
      ],
      "execution_count": 91,
      "outputs": [
        {
          "output_type": "execute_result",
          "data": {
            "text/plain": [
              "(10, 52)"
            ]
          },
          "metadata": {
            "tags": []
          },
          "execution_count": 91
        }
      ]
    }
  ]
}